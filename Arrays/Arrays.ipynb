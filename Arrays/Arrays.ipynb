{
 "cells": [
  {
   "cell_type": "markdown",
   "metadata": {},
   "source": [
    "# Arrays\n",
    "Arrays are one of the simplest data structures. As they are stored in continious block of memory, they support accessing elements with index ($O(1)$ time complexity for access). Python has a very powerfull implementation of arrays and are called lists.   "
   ]
  },
  {
   "cell_type": "markdown",
   "metadata": {},
   "source": [
    "### Array properties in Python"
   ]
  },
  {
   "cell_type": "markdown",
   "metadata": {},
   "source": [
    "- Checking if a value is present in an list ($x in A$) has $O(n)$ time complexity. \n",
    "- $B = copy.copy(A)$ creates a shallow copy of $A$ , i.e. if you change $A$ the change will be reflected in $B$ as well. \n",
    "- $B = copy.deepcopy(A)$ creates a deep copy of $A$, i.e. if you change $A$ the change will not be reflected in $B$. \n",
    "- Reversing an list : $A = A[::-1]$ "
   ]
  },
  {
   "cell_type": "markdown",
   "metadata": {},
   "source": [
    "### <span style=\"color:black\">Problem - Given an array as an input, reorder it such that the even entries appear first.</span>"
   ]
  },
  {
   "cell_type": "markdown",
   "metadata": {},
   "source": [
    "**Brute Force Method:** Create new lists arrays for even and odd entries. Iterate over the original list and keep populating the even and odd list. In the end merge the two list. Takes $O(n)$ space. "
   ]
  },
  {
   "cell_type": "code",
   "execution_count": 3,
   "metadata": {
    "collapsed": true
   },
   "outputs": [],
   "source": [
    "def even_odd_brute(A):\n",
    "    even = [] # Empty list to store even/odd entries (O(n) space complexity)\n",
    "    odd = []\n",
    "    for i in A: # Iterate over the original array (O(n) time complexity)\n",
    "        if i % 2 == 0:\n",
    "            even.append(i)\n",
    "        else:\n",
    "            odd.append(i)\n",
    "    return even + odd # Merge even odd lists (O(n) time complexity)"
   ]
  },
  {
   "cell_type": "code",
   "execution_count": 4,
   "metadata": {
    "collapsed": false,
    "scrolled": true
   },
   "outputs": [
    {
     "name": "stdout",
     "output_type": "stream",
     "text": [
      "[2, 4, 6, 8, 10, 1, 3, 5, 7, 9]\n"
     ]
    }
   ],
   "source": [
    "A = [1,2,3,4,5,6,7,8,9,10]\n",
    "B = even_odd_brute(A)\n",
    "print B"
   ]
  },
  {
   "cell_type": "markdown",
   "metadata": {},
   "source": [
    "**Better Method:** Operate efficiently at both ends of list. Partion into three subarrays -- Even, Unclassified and Odd.  \n",
    "\n",
    "Start with empty Even and Odd partitions and Unclassified containing the entire array. \n",
    "* Even pointer -- points to location where the next even element should be placed. It is initialized to $0th$ element (start of the array)\n",
    "* Odd Pointer -- points to location where the next odd element should be placed. It is initialized to last element (end of the array)"
   ]
  },
  {
   "cell_type": "markdown",
   "metadata": {},
   "source": [
    "![alt text](files/images/ArrayEvenOdd_1.pdf \"Title\")"
   ]
  },
  {
   "cell_type": "markdown",
   "metadata": {},
   "source": [
    "Iterate the even pointer and do the following: \n",
    "* When you find an even number, increment the even pointer. \n",
    "* When you find an odd number, swap it with the number at odd pointer location and decrement the odd pointer. \n",
    "* Do this while Even Pointer < Odd Pointer\n",
    "\n",
    "\n",
    "In the process, you interatively reduce the unclassified partion of the list and reorder it such that even entries appear first. Space complexity - $O(1)$, time complexity - $O(n)$"
   ]
  },
  {
   "cell_type": "markdown",
   "metadata": {},
   "source": [
    "![alt text](files/images/ArrayEvenOdd_2.pdf \"Title\")"
   ]
  },
  {
   "cell_type": "code",
   "execution_count": 5,
   "metadata": {
    "collapsed": true,
    "scrolled": true
   },
   "outputs": [],
   "source": [
    "def even_odd(A):\n",
    "    even, odd = 0, len(A)-1 # odd is initialized to len(A)-1 as in python len(A) = last element index + 1\n",
    "    while even < odd:\n",
    "        if A[even] % 2 == 0:\n",
    "            even += 1\n",
    "        else:\n",
    "            A[even], A[odd] = A[odd], A[even]\n",
    "            odd -= 1"
   ]
  },
  {
   "cell_type": "code",
   "execution_count": 6,
   "metadata": {
    "collapsed": false
   },
   "outputs": [
    {
     "name": "stdout",
     "output_type": "stream",
     "text": [
      "[10, 2, 8, 4, 6, 7, 5, 9, 3, 1]\n"
     ]
    }
   ],
   "source": [
    "A = [1,2,3,4,5,6,7,8,9,10]\n",
    "even_odd(A)\n",
    "print A"
   ]
  },
  {
   "cell_type": "markdown",
   "metadata": {},
   "source": [
    "### Problem: <span style=\"color:black\">Dutch National Flag Problem.</span>\n",
    "Given an list and a key, reorder the list such that all elements smaller than the list appear first, followed by the elements equal to the key followed by elements greater than the key. "
   ]
  },
  {
   "cell_type": "markdown",
   "metadata": {},
   "source": [
    "We can solve this problem in a very similar way as we solved the even-odd problem.   \n",
    "Partion the list into 4 parts: Smaller, equal, unclassified and larger. We start with empty partions for smaller, equal and larger partitions while the unclassified contains the whole array\n",
    "\n",
    "We create 3 pointers -- $s$, $e$ and $l$ pointing to the next location for smaller, equal to and larger elements of the list.\n",
    "\n",
    "![alt text](files/images/DutchNationalFlag_1.pdf \"Title\")\n",
    "\n",
    "* Initialize $s$ and $e$ to $0$ and $0$ to $len(A)-1$ (start and end of the array; so that subpartitions have 0 elements in them).\n",
    "* we will use e as the iterator to go through all the unclassified elements. \n",
    "* while $e$ < $l$ do this: \n",
    "    * When you find a number smaller than key, swap it with the element at $s$ index and increment $s$ and $e$.\n",
    "    * When you find a number larger than key, swap it with the element at $l$ index and decrement $l$.\n",
    "    * otherwise, simply increment $e$.\n",
    "    \n",
    "Space complexity - $O(1)$ and time complexity - $O(n)$"
   ]
  },
  {
   "cell_type": "markdown",
   "metadata": {},
   "source": [
    "![alt text](files/images/DutchNationalFlag_2.pdf \"Title\")"
   ]
  },
  {
   "cell_type": "code",
   "execution_count": 7,
   "metadata": {
    "collapsed": true
   },
   "outputs": [],
   "source": [
    "def dutch_flag(A, key):\n",
    "    s, e, l = 0, 0, len(A)-1\n",
    "    while e < l:\n",
    "        if A[e] < key:\n",
    "            A[e], A[s]  = A[s], A[e]\n",
    "            s += 1\n",
    "            e += 1\n",
    "        elif A[e] == key:\n",
    "            e += 1\n",
    "        else:\n",
    "            A[e], A[l] = A[l], A[e]\n",
    "            l -= 1"
   ]
  },
  {
   "cell_type": "code",
   "execution_count": 8,
   "metadata": {
    "collapsed": false,
    "scrolled": false
   },
   "outputs": [
    {
     "name": "stdout",
     "output_type": "stream",
     "text": [
      "[1, 2, 3, 4, 4, 4, 4, 7, 6, 8, 9, 10, 5]\n"
     ]
    }
   ],
   "source": [
    "A = [1, 2, 4, 3, 4, 5, 6, 4, 7, 4, 8 ,9, 10]\n",
    "dutch_flag(A, 4)\n",
    "print A"
   ]
  },
  {
   "cell_type": "markdown",
   "metadata": {},
   "source": [
    "### Problem: Increment an arbitrary-precision integer\n",
    "Write a program that takes in as input array of digits encoding a non-negative integer $D$ and updates the array to represent the integer $D+1$. The MSB is the 1st element in the array and LSB is the last element. For example, [1,7,9] represent 179 and the output from the function should be [1,8,0]. \n",
    "\n",
    "\n",
    "Time complexity = $O(n)$"
   ]
  },
  {
   "cell_type": "code",
   "execution_count": 11,
   "metadata": {
    "collapsed": true
   },
   "outputs": [],
   "source": [
    "def add_one(A):\n",
    "    A[-1] += 1\n",
    "    for i in reversed(range(1,len(A))):\n",
    "        if A[i] != 10:\n",
    "            break\n",
    "        else:\n",
    "            A[i] = 0\n",
    "            A[i-1] += 1\n",
    "            \n",
    "        if A[0] == 10:\n",
    "            A[0] = 1\n",
    "            A.append(0)"
   ]
  },
  {
   "cell_type": "code",
   "execution_count": 12,
   "metadata": {
    "collapsed": false
   },
   "outputs": [
    {
     "name": "stdout",
     "output_type": "stream",
     "text": [
      "[1, 8, 0]\n"
     ]
    }
   ],
   "source": [
    "A = [1,7,9]\n",
    "add_one(A)\n",
    "print A"
   ]
  },
  {
   "cell_type": "markdown",
   "metadata": {},
   "source": [
    "### Problem: Write a program that takes as input two strings $s$ and $t$ of bits encoding binary numbers $B_s$ and $B_t$ and returns a string of bits representing $B_s + B_t$"
   ]
  },
  {
   "cell_type": "code",
   "execution_count": 1,
   "metadata": {
    "collapsed": true
   },
   "outputs": [],
   "source": [
    "def sum_strings(s, t):\n",
    "    def full_adder(b1, b2, c1):\n",
    "        sum = (b1 + b2 + c1) % 2\n",
    "        carry = (b1 + b2 + c1) // 2\n",
    "        return sum, carry\n",
    "    \n",
    "    l1 = len(s)\n",
    "    l2 = len(t)\n",
    "    carry = 0\n",
    "    # TODO"
   ]
  },
  {
   "cell_type": "markdown",
   "metadata": {},
   "source": [
    "### Problem: Two sum\n",
    "Given an array of integers, return indices of the two numbers such that they add up to a specific target."
   ]
  },
  {
   "cell_type": "code",
   "execution_count": 8,
   "metadata": {
    "collapsed": true
   },
   "outputs": [],
   "source": [
    "def two_sum(nums, target):\n",
    "    while nums: \n",
    "        x = nums.pop()\n",
    "        if target-x in nums:\n",
    "            return [len(nums), nums.index(target-x)]"
   ]
  },
  {
   "cell_type": "code",
   "execution_count": 9,
   "metadata": {
    "collapsed": true
   },
   "outputs": [
    {
     "data": {
      "text/plain": [
       "[2, 0]"
      ]
     },
     "execution_count": 9,
     "metadata": {},
     "output_type": "execute_result"
    }
   ],
   "source": [
    "A = [1,2,3,4,5,6,7,8,9,10]\n",
    "two_sum(A, 4)"
   ]
  }
 ],
 "metadata": {
  "kernelspec": {
   "display_name": "Python 2",
   "language": "python",
   "name": "python2"
  },
  "language_info": {
   "codemirror_mode": {
    "name": "ipython",
    "version": 2
   },
   "file_extension": ".py",
   "mimetype": "text/x-python",
   "name": "python",
   "nbconvert_exporter": "python",
   "pygments_lexer": "ipython2",
   "version": "2.7.5"
  }
 },
 "nbformat": 4,
 "nbformat_minor": 2
}
