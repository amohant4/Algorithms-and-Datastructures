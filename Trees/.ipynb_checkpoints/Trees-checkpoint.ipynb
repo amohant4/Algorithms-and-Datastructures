{
 "cells": [
  {
   "cell_type": "markdown",
   "metadata": {},
   "source": [
    "# Binary Trees \n",
    "\n",
    "\n",
    "Unlike Arrays and LinkedLists trees are hierarchical data structures.\n",
    "Each node contains a data feild and two pointers pointing to left and right child nodes. For leaf nodes, the left and right pointers are $None$.\n",
    "\n",
    "Few definations: \n",
    "* Full binary tree: Every node other than the leafs have two children\n",
    "* Complete binary tree: Every level except for the last is completely filled and the nodes are as far left as possible.\n",
    "* Perfect binary tree: All leaves are at the same depth and all parents have two childrens. \n",
    "\n",
    "In a perfect binary tree, number of leaves is one more than the number of other nodes. For a tree of height $h$, total number of nodes is $2^{h+1}-1$ "
   ]
  },
  {
   "cell_type": "code",
   "execution_count": 21,
   "metadata": {
    "collapsed": false,
    "scrolled": true
   },
   "outputs": [],
   "source": [
    "class binaryTreeNode:\n",
    "    def __init__(self, data=None, left=None, right=None):\n",
    "        self.data = data\n",
    "        self.left = left\n",
    "        self.right = right\n",
    "        \n",
    "def get_height(root):\n",
    "    if not root:\n",
    "        return -1\n",
    "    return max(get_height(root.left), get_height(root.right))+1"
   ]
  },
  {
   "cell_type": "markdown",
   "metadata": {},
   "source": [
    "#### Tree Traversals:\n",
    "* Depth First Search (DFS) - $O(h)$ space complexity\n",
    "    * In Order\n",
    "    * Pre Order\n",
    "    * Post Order\n",
    "    \n",
    "* Breadth First Search (BFS) - $O(w)$ space complexity"
   ]
  },
  {
   "cell_type": "code",
   "execution_count": 22,
   "metadata": {
    "collapsed": true
   },
   "outputs": [],
   "source": [
    "# Depth First Search (DFS)\n",
    "def inOrderTraversal(root):\n",
    "    if root:  \n",
    "        inOrderTraversal(root.left)\n",
    "        print root.data\n",
    "        inOrderTraversal(root.right)\n",
    "\n",
    "def preOrderTraversal(root):\n",
    "    if root:\n",
    "        print root.data\n",
    "        preOrderTraversal(root.left)    \n",
    "        preOrderTraversal(root.right)\n",
    "\n",
    "def postOrderTraversal(root):\n",
    "    if root:\n",
    "        postOrderTraversal(root.left)\n",
    "        postOrderTraversal(root.right)\n",
    "        print root.data"
   ]
  },
  {
   "cell_type": "code",
   "execution_count": 46,
   "metadata": {
    "collapsed": false
   },
   "outputs": [],
   "source": [
    "# Breadth first search (BFS) using print function\n",
    "def level_order_traversal(root):\n",
    "    def print_level(root, l):\n",
    "        if not root: \n",
    "            return\n",
    "        if l == 0:\n",
    "            print root.data\n",
    "        elif l > 0:\n",
    "            print_level(root.left, l-1)\n",
    "            print_level(root.right, l-1)\n",
    "    \n",
    "    h = get_height(root)\n",
    "    for i in range(h+1):\n",
    "        print_level(root, i)\n",
    "\n",
    "# BFS using queue\n",
    "def level_order_traversal_queue(root):\n",
    "    queue = []\n",
    "    queue.append(root)\n",
    "    while len(queue)>0:        \n",
    "        temp_node = queue.pop(0)\n",
    "        print temp_node.data\n",
    "        if temp_node.left: \n",
    "            queue.append(temp_node.left)\n",
    "        if temp_node.right:\n",
    "            queue.append(temp_node.right)"
   ]
  },
  {
   "cell_type": "code",
   "execution_count": 47,
   "metadata": {
    "collapsed": false
   },
   "outputs": [
    {
     "name": "stdout",
     "output_type": "stream",
     "text": [
      "in order\n",
      "4\n",
      "2\n",
      "5\n",
      "1\n",
      "6\n",
      "3\n",
      "7\n",
      "pre order\n",
      "1\n",
      "2\n",
      "4\n",
      "5\n",
      "3\n",
      "6\n",
      "7\n",
      "post order\n",
      "4\n",
      "5\n",
      "2\n",
      "6\n",
      "7\n",
      "3\n",
      "1\n",
      "level order\n",
      "1\n",
      "2\n",
      "3\n",
      "4\n",
      "5\n",
      "6\n",
      "7\n"
     ]
    }
   ],
   "source": [
    "root = binaryTreeNode(1)\n",
    "root.left = binaryTreeNode(2)\n",
    "root.left.left = binaryTreeNode(4)\n",
    "root.left.right = binaryTreeNode(5)\n",
    "root.right = binaryTreeNode(3)\n",
    "root.right.left = binaryTreeNode(6)\n",
    "root.right.right = binaryTreeNode(7)\n",
    "print 'in order' \n",
    "inOrderTraversal(root)\n",
    "print 'pre order' \n",
    "preOrderTraversal(root)\n",
    "print 'post order' \n",
    "postOrderTraversal(root)\n",
    "print 'level order'\n",
    "level_order_traversal_queue(root)"
   ]
  },
  {
   "cell_type": "markdown",
   "metadata": {},
   "source": [
    "### Print level order line by line"
   ]
  },
  {
   "cell_type": "code",
   "execution_count": null,
   "metadata": {
    "collapsed": true
   },
   "outputs": [],
   "source": [
    "def print_level_in_lines(root):\n",
    "    "
   ]
  },
  {
   "cell_type": "markdown",
   "metadata": {},
   "source": [
    "### Problem: Test if a binary tree is height balanced. "
   ]
  },
  {
   "cell_type": "code",
   "execution_count": 25,
   "metadata": {
    "collapsed": true
   },
   "outputs": [],
   "source": [
    "def is_binary_tree_balanced(root):\n",
    "    BalancedStatusWithHeight = collections.namedtuple('BalancedStatusWithHeight',('balanced','height'))\n",
    "    \n",
    "    def check_balanced(root):\n",
    "        if not root:\n",
    "            return BalancedStatusWithHeight(True, -1)\n",
    "        \n",
    "        left_status = check_balanced(root.left)\n",
    "        if not left_status.balanced:\n",
    "            return BalancedStatusWithHeight(False, 0)\n",
    "        \n",
    "        right_status = check_balanced(root.right)\n",
    "        if not right_status.balanced:\n",
    "            return BalancedStatusWithHeight(False, 0)\n",
    "        \n",
    "        is_balanced = abs(left_status.height - right_status.height) <= 1\n",
    "        height = max(left_status.height, right_status.height) + 1\n",
    "        return BalancedStatusWithHeight(is_balanced, height)"
   ]
  },
  {
   "cell_type": "markdown",
   "metadata": {},
   "source": [
    "### Problem: Check if a tree is complete"
   ]
  },
  {
   "cell_type": "code",
   "execution_count": 26,
   "metadata": {
    "collapsed": false
   },
   "outputs": [
    {
     "ename": "IndentationError",
     "evalue": "expected an indented block (<ipython-input-26-8afe00d56ecb>, line 2)",
     "output_type": "error",
     "traceback": [
      "\u001b[0;36m  File \u001b[0;32m\"<ipython-input-26-8afe00d56ecb>\"\u001b[0;36m, line \u001b[0;32m2\u001b[0m\n\u001b[0;31m    \u001b[0m\n\u001b[0m    ^\u001b[0m\n\u001b[0;31mIndentationError\u001b[0m\u001b[0;31m:\u001b[0m expected an indented block\n"
     ]
    }
   ],
   "source": [
    "def checkComplete(root):\n",
    "    "
   ]
  },
  {
   "cell_type": "markdown",
   "metadata": {},
   "source": [
    "### Problem:Return the size of the largest complete subtree in a binary tree."
   ]
  },
  {
   "cell_type": "code",
   "execution_count": null,
   "metadata": {
    "collapsed": true
   },
   "outputs": [],
   "source": [
    "def get_largest_complete_subtree_size(root):\n",
    "    CompleteStatusWithSize =  collections.namedtouple('CompleteStatusWithSize','status', 'size')\n",
    "    \n",
    "    "
   ]
  }
 ],
 "metadata": {
  "kernelspec": {
   "display_name": "Python 2",
   "language": "python",
   "name": "python2"
  },
  "language_info": {
   "codemirror_mode": {
    "name": "ipython",
    "version": 2
   },
   "file_extension": ".py",
   "mimetype": "text/x-python",
   "name": "python",
   "nbconvert_exporter": "python",
   "pygments_lexer": "ipython2",
   "version": "2.7.5"
  }
 },
 "nbformat": 4,
 "nbformat_minor": 1
}
