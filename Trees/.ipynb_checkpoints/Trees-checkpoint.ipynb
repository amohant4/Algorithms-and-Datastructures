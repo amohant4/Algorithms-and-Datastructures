{
 "cells": [
  {
   "cell_type": "markdown",
   "metadata": {},
   "source": [
    "# Binary Trees \n",
    "\n",
    "\n",
    "Unlike Arrays and LinkedLists trees are hierarchical data structures.\n",
    "Each node contains a data feild and two pointers pointing to left and right child nodes. For leaf nodes, the left and right pointers are $None$.\n",
    "\n",
    "Few definations: \n",
    "* Full binary tree: Every node other than the leafs have two children\n",
    "* Complete binary tree: Every level except for the last is completely filled and the nodes are as far left as possible.\n",
    "* Perfect binary tree: All leaves are at the same depth and all parents have two childrens. \n",
    "\n",
    "In a perfect binary tree, number of leaves is one more than the number of other nodes. For a tree of height $h$, total number of nodes is $2^{h+1}-1$ "
   ]
  },
  {
   "cell_type": "code",
   "execution_count": 41,
   "metadata": {
    "collapsed": true,
    "scrolled": true
   },
   "outputs": [],
   "source": [
    "import collections\n",
    "class binaryTreeNode:\n",
    "    def __init__(self, data=None, left=None, right=None):\n",
    "        self.data = data\n",
    "        self.left = left\n",
    "        self.right = right\n",
    "        \n",
    "def get_height(root):\n",
    "    if not root:\n",
    "        return -1\n",
    "    return max(get_height(root.left), get_height(root.right))+1"
   ]
  },
  {
   "cell_type": "markdown",
   "metadata": {},
   "source": [
    "#### Tree Traversals:\n",
    "* Depth First Search (DFS) - $O(h)$ space complexity\n",
    "    * In Order\n",
    "    * Pre Order\n",
    "    * Post Order\n",
    "    \n",
    "* Breadth First Search (BFS) - $O(w)$ space complexity"
   ]
  },
  {
   "cell_type": "code",
   "execution_count": 42,
   "metadata": {
    "collapsed": true
   },
   "outputs": [],
   "source": [
    "# Depth First Search (DFS)\n",
    "def inOrderTraversal(root):\n",
    "    if root:  \n",
    "        inOrderTraversal(root.left)\n",
    "        print root.data\n",
    "        inOrderTraversal(root.right)\n",
    "\n",
    "def preOrderTraversal(root):\n",
    "    if root:\n",
    "        print root.data\n",
    "        preOrderTraversal(root.left)    \n",
    "        preOrderTraversal(root.right)\n",
    "\n",
    "def postOrderTraversal(root):\n",
    "    if root:\n",
    "        postOrderTraversal(root.left)\n",
    "        postOrderTraversal(root.right)\n",
    "        print root.data"
   ]
  },
  {
   "cell_type": "code",
   "execution_count": 43,
   "metadata": {
    "collapsed": true
   },
   "outputs": [],
   "source": [
    "# Breadth first search (BFS) using print function\n",
    "def level_order_traversal(root):\n",
    "    def print_level(root, l):\n",
    "        if not root: \n",
    "            return\n",
    "        if l == 0:\n",
    "            print root.data\n",
    "        elif l > 0:\n",
    "            print_level(root.left, l-1)\n",
    "            print_level(root.right, l-1)\n",
    "    \n",
    "    h = get_height(root)\n",
    "    for i in range(h+1):\n",
    "        print_level(root, i)\n",
    "\n",
    "# BFS using queue\n",
    "def level_order_traversal_queue(root):\n",
    "    if not root:\n",
    "        return\n",
    "    queue = []\n",
    "    queue.append(root)\n",
    "    while len(queue)>0:        \n",
    "        temp_node = queue.pop(0)\n",
    "        print temp_node.data\n",
    "        if temp_node.left: \n",
    "            queue.append(temp_node.left)\n",
    "        if temp_node.right:\n",
    "            queue.append(temp_node.right)"
   ]
  },
  {
   "cell_type": "code",
   "execution_count": 44,
   "metadata": {},
   "outputs": [],
   "source": [
    "root = binaryTreeNode(1)\n",
    "root.left = binaryTreeNode(2)\n",
    "root.left.left = binaryTreeNode(4)\n",
    "root.left.right = binaryTreeNode(5)\n",
    "root.right = binaryTreeNode(3)\n",
    "root.right.left = binaryTreeNode(6)\n",
    "root.right.right = binaryTreeNode(7)\n",
    "#print 'in order' \n",
    "#inOrderTraversal(root)\n",
    "#print 'pre order' \n",
    "#preOrderTraversal(root)\n",
    "#print 'post order' \n",
    "#postOrderTraversal(root)\n",
    "#print 'level order'\n",
    "#level_order_traversal_queue(root)"
   ]
  },
  {
   "cell_type": "markdown",
   "metadata": {},
   "source": [
    "### Problem: Print level order line by line"
   ]
  },
  {
   "cell_type": "code",
   "execution_count": 45,
   "metadata": {
    "collapsed": true
   },
   "outputs": [],
   "source": [
    "def print_level_in_lines(root):\n",
    "    if not root:\n",
    "        return\n",
    "    queue = []\n",
    "    queue.append(root)\n",
    "    while 1:\n",
    "        numNodes = len(queue)\n",
    "        if numNodes == 0:\n",
    "            break\n",
    "        pStr = ''\n",
    "        while numNodes:\n",
    "            temp = queue.pop(0)\n",
    "            pStr = pStr + ' ' + str(temp.data)\n",
    "            if temp.left:\n",
    "                queue.append(temp.left)\n",
    "            if temp.right:\n",
    "                queue.append(temp.right)\n",
    "            numNodes -= 1\n",
    "        print pStr[1:]"
   ]
  },
  {
   "cell_type": "code",
   "execution_count": 46,
   "metadata": {
    "scrolled": true
   },
   "outputs": [
    {
     "name": "stdout",
     "output_type": "stream",
     "text": [
      "1\n",
      "2 3\n",
      "4 5 6 7\n"
     ]
    }
   ],
   "source": [
    "print_level_in_lines(root)"
   ]
  },
  {
   "cell_type": "markdown",
   "metadata": {},
   "source": [
    "### Problem: Inorder Tree Traversal without recursion and without stack! Morris Traversal"
   ]
  },
  {
   "cell_type": "markdown",
   "metadata": {},
   "source": [
    "### Problem: Test if a binary tree is height balanced. "
   ]
  },
  {
   "cell_type": "code",
   "execution_count": 47,
   "metadata": {
    "collapsed": true
   },
   "outputs": [],
   "source": [
    "def is_binary_tree_balanced(root):\n",
    "    BalancedStatusWithHeight = collections.namedtuple('BalancedStatusWithHeight',('balanced','height'))\n",
    "    def check_balanced(root):\n",
    "        if not root:\n",
    "            return BalancedStatusWithHeight(True, -1)\n",
    "        \n",
    "        left_status = check_balanced(root.left)\n",
    "        if not left_status.balanced:\n",
    "            return BalancedStatusWithHeight(False, 0)\n",
    "        \n",
    "        right_status = check_balanced(root.right)\n",
    "        if not right_status.balanced:\n",
    "            return BalancedStatusWithHeight(False, 0)\n",
    "        \n",
    "        is_balanced = abs(left_status.height - right_status.height) <= 1\n",
    "        height = max(left_status.height, right_status.height) + 1\n",
    "        return BalancedStatusWithHeight(is_balanced, height)\n",
    "    return check_balanced(root)"
   ]
  },
  {
   "cell_type": "code",
   "execution_count": 48,
   "metadata": {},
   "outputs": [
    {
     "name": "stdout",
     "output_type": "stream",
     "text": [
      "Is Balanced\n"
     ]
    }
   ],
   "source": [
    "res = is_binary_tree_balanced(root)\n",
    "if res.balanced: \n",
    "    print 'Is Balanced'\n",
    "else:\n",
    "    print 'Is not Balanced'"
   ]
  },
  {
   "cell_type": "markdown",
   "metadata": {},
   "source": [
    "### Problem: In-order traversal without function recursion"
   ]
  },
  {
   "cell_type": "code",
   "execution_count": 49,
   "metadata": {
    "collapsed": true
   },
   "outputs": [],
   "source": [
    "def in_order_traversal_with_stack(root):\n",
    "    current = root\n",
    "    s = [] # stack initialization\n",
    "    Done = False\n",
    "    while not Done: \n",
    "        if current:\n",
    "            s.append(current)\n",
    "            current = current.left\n",
    "        else: \n",
    "            if len(s) > 0:\n",
    "                current = s.pop()\n",
    "                print current.data\n",
    "                current = current.right\n",
    "            else:\n",
    "                Done = True"
   ]
  },
  {
   "cell_type": "code",
   "execution_count": 50,
   "metadata": {
    "scrolled": true
   },
   "outputs": [],
   "source": [
    "#in_order_traversal_with_stack(root)"
   ]
  },
  {
   "cell_type": "markdown",
   "metadata": {},
   "source": [
    "### Problem: Reverse Level order: "
   ]
  },
  {
   "cell_type": "code",
   "execution_count": 51,
   "metadata": {},
   "outputs": [],
   "source": [
    "def reverseLevelOrder(root):\n",
    "    if not root: \n",
    "        return\n",
    "    s = []\n",
    "    q = []\n",
    "    q.append(root)\n",
    "    while len(q) > 0:\n",
    "        root = q.pop(0)\n",
    "        if root.left: \n",
    "            q.append(root.left)\n",
    "        if root.right:\n",
    "            q.append(root.right)\n",
    "        s.append(root)\n",
    "    \n",
    "    while len(s) > 0:\n",
    "        tmp = s.pop()\n",
    "        print tmp.data"
   ]
  },
  {
   "cell_type": "markdown",
   "metadata": {},
   "source": [
    "### Problem: Add all left leafs: "
   ]
  },
  {
   "cell_type": "code",
   "execution_count": null,
   "metadata": {
    "collapsed": true
   },
   "outputs": [],
   "source": [
    "def add_all_left_leafs(root):\n",
    "    # Helper function to check if a node is a leaf node.\n",
    "    def isLeaf(root):\n",
    "        if not root:\n",
    "            return False\n",
    "        if not root.left and not root.right:\n",
    "            return True\n",
    "        return False\n",
    "    \n",
    "    sum = 0\n",
    "    if root is not none:\n",
    "        if isLeaf(root.left):\n",
    "            sum += root.left.data\n",
    "        else:\n",
    "            sum += add_all_left_leafs(root.left)\n",
    "        sum += add_all_left_leafs(root.right)\n",
    "        \n",
    "    return sum"
   ]
  },
  {
   "cell_type": "markdown",
   "metadata": {},
   "source": [
    "### Problem: Morris Traversal (Traversing without recursion and stack):"
   ]
  },
  {
   "cell_type": "code",
   "execution_count": 52,
   "metadata": {
    "collapsed": true
   },
   "outputs": [],
   "source": [
    "def morrisTraversal(root):\n",
    "    print 'TODO'"
   ]
  },
  {
   "cell_type": "markdown",
   "metadata": {},
   "source": [
    "### Problem: Check if a tree is complete"
   ]
  },
  {
   "cell_type": "code",
   "execution_count": 53,
   "metadata": {},
   "outputs": [],
   "source": [
    "def checkComplete(root):\n",
    "    print 'TODO'"
   ]
  },
  {
   "cell_type": "markdown",
   "metadata": {},
   "source": [
    "### Problem: Return the size of the largest complete subtree in a binary tree."
   ]
  },
  {
   "cell_type": "code",
   "execution_count": 54,
   "metadata": {
    "collapsed": true
   },
   "outputs": [],
   "source": [
    "def get_largest_complete_subtree_size(root):\n",
    "    print 'TODO'\n",
    "    CompleteStatusWithSize =  collections.namedtouple('CompleteStatusWithSize','status', 'size')"
   ]
  }
 ],
 "metadata": {
  "kernelspec": {
   "display_name": "Python 2",
   "language": "python",
   "name": "python2"
  },
  "language_info": {
   "codemirror_mode": {
    "name": "ipython",
    "version": 2
   },
   "file_extension": ".py",
   "mimetype": "text/x-python",
   "name": "python",
   "nbconvert_exporter": "python",
   "pygments_lexer": "ipython2",
   "version": "2.7.10"
  }
 },
 "nbformat": 4,
 "nbformat_minor": 1
}
